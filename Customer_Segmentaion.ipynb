{
  "nbformat": 4,
  "nbformat_minor": 0,
  "metadata": {
    "colab": {
      "name": "Customer Segmentaion.ipynb",
      "provenance": [],
      "collapsed_sections": [],
      "authorship_tag": "ABX9TyMo4a6J2V1SHQJJ/XNJKYk5",
      "include_colab_link": true
    },
    "kernelspec": {
      "name": "python3",
      "display_name": "Python 3"
    },
    "language_info": {
      "name": "python"
    }
  },
  "cells": [
    {
      "cell_type": "markdown",
      "metadata": {
        "id": "view-in-github",
        "colab_type": "text"
      },
      "source": [
        "<a href=\"https://colab.research.google.com/github/TharindaAdhikari/ML_Assignment2_IT19037752_IT19047966_IT19189390/blob/ML_Development/Customer_Segmentaion.ipynb\" target=\"_parent\"><img src=\"https://colab.research.google.com/assets/colab-badge.svg\" alt=\"Open In Colab\"/></a>"
      ]
    },
    {
      "cell_type": "markdown",
      "source": [
        "# CUSTOMER SEGMENTATION IN RETAIL"
      ],
      "metadata": {
        "id": "07S0C3QzI-Eo"
      }
    },
    {
      "cell_type": "markdown",
      "source": [
        "![link text](https://miro.medium.com/max/681/1*iejTpHhx-u_R73XQD0GFkg.jpeg)"
      ],
      "metadata": {
        "id": "W3IFgUs6I_Lu"
      }
    },
    {
      "cell_type": "markdown",
      "source": [
        "## What is customer segmentation ?"
      ],
      "metadata": {
        "id": "BwZycXVppUyT"
      }
    },
    {
      "cell_type": "markdown",
      "source": [
        "Customer Segmentation is the process of dividing customers into groups based on common characteristics so companies can market to each group effectively and appropriately. Customers are segmented according to their similarities in behavior and habits.In this project my team and I implemented two unsupervised machine learning algorithms: K-means, RDF .. . In collaboration with a online retail. Our goal is to segment their customers given the customer’s various behaviors and features, in order for the company to be able to market for each segment in a manner that is more fitting to each individual customer."
      ],
      "metadata": {
        "id": "h-svZN5OJxgO"
      }
    },
    {
      "cell_type": "markdown",
      "source": [
        "> There are different methodologies for customer segmentation, and they depend on four types of parameters:"
      ],
      "metadata": {
        "id": "iW7NFjE1Kj7T"
      }
    },
    {
      "cell_type": "markdown",
      "source": [
        "* **Geographic** \n",
        "* **Demographic** \n",
        "* **Behavioral**\n",
        "* **Psychological** "
      ],
      "metadata": {
        "id": "vJrLDXpSpifX"
      }
    },
    {
      "cell_type": "markdown",
      "source": [
        "## Advantages of customer segmentation"
      ],
      "metadata": {
        "id": "9GeCdD59qfkA"
      }
    },
    {
      "cell_type": "markdown",
      "source": [
        "> Implementing customer segmentation leads to plenty of new business opportunities. You can do a lot of optimization in:"
      ],
      "metadata": {
        "id": "VVGdfwBDqkVD"
      }
    },
    {
      "cell_type": "markdown",
      "source": [
        "* Budgeting \n",
        "* Product design \n",
        "* Promotion \n",
        "* Marketing \n",
        "* Customer satisfaction "
      ],
      "metadata": {
        "id": "JSVu8oaaqpsx"
      }
    },
    {
      "cell_type": "markdown",
      "source": [
        "## Macine learning approach for customer segmentation and market analytics"
      ],
      "metadata": {
        "id": "ipAC0gIbrZPx"
      }
    },
    {
      "cell_type": "markdown",
      "source": [
        "This project based on a data sample from a UK-based non-store online retail, author\n",
        "identify that are important of Customer segmentation and market analytics Further,\n",
        "tried to find out the Identifying potential customers and their unsatisfied\n",
        "customer needs this enables marketers to create targeted marketing messages for a\n",
        "specific group of customers which increases the chances of the person buying a\n",
        "product."
      ],
      "metadata": {
        "id": "c4rV4FUbrTO2"
      }
    },
    {
      "cell_type": "code",
      "source": [
        ""
      ],
      "metadata": {
        "id": "96BMhVmtp3l2"
      },
      "execution_count": null,
      "outputs": []
    }
  ]
}